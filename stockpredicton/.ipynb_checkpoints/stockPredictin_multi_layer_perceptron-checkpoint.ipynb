{
 "cells": [
  {
   "cell_type": "code",
   "execution_count": 1,
   "metadata": {},
   "outputs": [],
   "source": [
    "#importing pandas_data_reader to download data from yahoo finance\n",
    "import pandas as pd\n",
    "import pandas_datareader as pdr\n"
   ]
  },
  {
   "cell_type": "code",
   "execution_count": 2,
   "metadata": {},
   "outputs": [],
   "source": [
    "df=pd.read_csv(r\"C:\\Users\\Asus\\Documents\\Stock-MArket-Forecasting\\AAPL.csv\")"
   ]
  },
  {
   "cell_type": "code",
   "execution_count": 3,
   "metadata": {},
   "outputs": [
    {
     "data": {
      "text/plain": [
       "<bound method NDFrame.head of       Unnamed: 0 symbol                       date    close     high  \\\n",
       "0              0   AAPL  2015-05-27 00:00:00+00:00  132.045  132.260   \n",
       "1              1   AAPL  2015-05-28 00:00:00+00:00  131.780  131.950   \n",
       "2              2   AAPL  2015-05-29 00:00:00+00:00  130.280  131.450   \n",
       "3              3   AAPL  2015-06-01 00:00:00+00:00  130.535  131.390   \n",
       "4              4   AAPL  2015-06-02 00:00:00+00:00  129.960  130.655   \n",
       "...          ...    ...                        ...      ...      ...   \n",
       "1253        1253   AAPL  2020-05-18 00:00:00+00:00  314.960  316.500   \n",
       "1254        1254   AAPL  2020-05-19 00:00:00+00:00  313.140  318.520   \n",
       "1255        1255   AAPL  2020-05-20 00:00:00+00:00  319.230  319.520   \n",
       "1256        1256   AAPL  2020-05-21 00:00:00+00:00  316.850  320.890   \n",
       "1257        1257   AAPL  2020-05-22 00:00:00+00:00  318.890  319.230   \n",
       "\n",
       "           low    open    volume    adjClose     adjHigh      adjLow  \\\n",
       "0     130.0500  130.34  45833246  121.682558  121.880685  119.844118   \n",
       "1     131.1000  131.86  30733309  121.438354  121.595013  120.811718   \n",
       "2     129.9000  131.23  50884452  120.056069  121.134251  119.705890   \n",
       "3     130.0500  131.20  32112797  120.291057  121.078960  119.844118   \n",
       "4     129.3200  129.86  33667627  119.761181  120.401640  119.171406   \n",
       "...        ...     ...       ...         ...         ...         ...   \n",
       "1253  310.3241  313.17  33843125  314.960000  316.500000  310.324100   \n",
       "1254  313.0100  315.03  25432385  313.140000  318.520000  313.010000   \n",
       "1255  316.2000  316.68  27876215  319.230000  319.520000  316.200000   \n",
       "1256  315.8700  318.66  25672211  316.850000  320.890000  315.870000   \n",
       "1257  315.3500  315.77  20450754  318.890000  319.230000  315.350000   \n",
       "\n",
       "         adjOpen  adjVolume  divCash  splitFactor  \n",
       "0     120.111360   45833246      0.0          1.0  \n",
       "1     121.512076   30733309      0.0          1.0  \n",
       "2     120.931516   50884452      0.0          1.0  \n",
       "3     120.903870   32112797      0.0          1.0  \n",
       "4     119.669029   33667627      0.0          1.0  \n",
       "...          ...        ...      ...          ...  \n",
       "1253  313.170000   33843125      0.0          1.0  \n",
       "1254  315.030000   25432385      0.0          1.0  \n",
       "1255  316.680000   27876215      0.0          1.0  \n",
       "1256  318.660000   25672211      0.0          1.0  \n",
       "1257  315.770000   20450754      0.0          1.0  \n",
       "\n",
       "[1258 rows x 15 columns]>"
      ]
     },
     "execution_count": 3,
     "metadata": {},
     "output_type": "execute_result"
    }
   ],
   "source": [
    "df.head"
   ]
  },
  {
   "cell_type": "code",
   "execution_count": 4,
   "metadata": {},
   "outputs": [],
   "source": [
    "import numpy as np\n",
    "df1=df.reset_index()['close']"
   ]
  },
  {
   "cell_type": "code",
   "execution_count": 5,
   "metadata": {},
   "outputs": [],
   "source": [
    "df1=np.array(df1).reshape(-1,1)"
   ]
  },
  {
   "cell_type": "code",
   "execution_count": 6,
   "metadata": {},
   "outputs": [],
   "source": [
    "# scaling the data not necessary for multiple perceptron\n",
    "# \"#from sklearn.preprocessing import MinMaxScaler\n",
    "# scaler=MinMaxScaler(feature_range=(0,1))\n",
    "# #reshape (-1,1)convert the given matrix into that many rows and 1 columns e.g 100 item convert into 100*1 2-d array\n",
    "# df1=scaler.fit_transform(np.array(df1).reshape(-1,1))\""
   ]
  },
  {
   "cell_type": "code",
   "execution_count": 7,
   "metadata": {},
   "outputs": [
    {
     "data": {
      "text/plain": [
       "(817, 441, 1258)"
      ]
     },
     "execution_count": 7,
     "metadata": {},
     "output_type": "execute_result"
    }
   ],
   "source": [
    "#splitting the dataset for training and test set preparation\n",
    "training_size=int(len(df)*.65)\n",
    "test_size=len(df)-training_size\n",
    "training_size,test_size,len(df)"
   ]
  },
  {
   "cell_type": "code",
   "execution_count": 8,
   "metadata": {},
   "outputs": [
    {
     "data": {
      "text/plain": [
       "(1258, 1)"
      ]
     },
     "execution_count": 8,
     "metadata": {},
     "output_type": "execute_result"
    }
   ],
   "source": [
    "df1.shape"
   ]
  },
  {
   "cell_type": "code",
   "execution_count": 9,
   "metadata": {},
   "outputs": [
    {
     "data": {
      "text/plain": [
       "array([[132.045],\n",
       "       [131.78 ],\n",
       "       [130.28 ],\n",
       "       ...,\n",
       "       [319.23 ],\n",
       "       [316.85 ],\n",
       "       [318.89 ]])"
      ]
     },
     "execution_count": 9,
     "metadata": {},
     "output_type": "execute_result"
    }
   ],
   "source": [
    "df1[:,:]"
   ]
  },
  {
   "cell_type": "code",
   "execution_count": 10,
   "metadata": {},
   "outputs": [],
   "source": [
    "#first .65 percent for training and remaining for test set preparation\n",
    "stock_train=df1[:training_size,:]\n",
    "stock_test=df1[training_size:len(df1),:]"
   ]
  },
  {
   "cell_type": "code",
   "execution_count": 11,
   "metadata": {},
   "outputs": [
    {
     "data": {
      "text/plain": [
       "((441, 1), (817, 1))"
      ]
     },
     "execution_count": 11,
     "metadata": {},
     "output_type": "execute_result"
    }
   ],
   "source": [
    "stock_test.shape,stock_train.shape"
   ]
  },
  {
   "cell_type": "code",
   "execution_count": 12,
   "metadata": {},
   "outputs": [],
   "source": [
    "#preparing the training and test set as we want 100 previous day data to predict the next day\n",
    "class stock:\n",
    "    def __init__(self,stock):\n",
    "        self.stock_train=stock\n",
    "\n",
    "\n",
    "    def gen_train(self,seq_len):\n",
    "        self.input_train=[]\n",
    "        self.output_train=[]\n",
    "        for i in range((len(self.stock_train))-seq_len-1):\n",
    "            x=np.array(self.stock_train[i:i+seq_len,0])\n",
    "            y=np.array(self.stock_train[i+seq_len+1,0],np.float64)\n",
    "            self.input_train.append(x)\n",
    "            self.output_train.append(y)\n",
    "        \n",
    "\n",
    "        return np.array(self.input_train),np.array(self.output_train)\n",
    "    \n",
    "    \n"
   ]
  },
  {
   "cell_type": "code",
   "execution_count": 13,
   "metadata": {},
   "outputs": [],
   "source": [
    "#getting the training and test data \n",
    "Stock_train=stock(stock_train)\n",
    "X_train,Y_train=Stock_train.gen_train(100)"
   ]
  },
  {
   "cell_type": "code",
   "execution_count": 14,
   "metadata": {},
   "outputs": [],
   "source": [
    "Stock_test=stock(stock_test)\n",
    "X_test,Y_test=Stock_test.gen_train(100)"
   ]
  },
  {
   "cell_type": "code",
   "execution_count": 15,
   "metadata": {},
   "outputs": [
    {
     "data": {
      "text/plain": [
       "((340, 100), (716, 100))"
      ]
     },
     "execution_count": 15,
     "metadata": {},
     "output_type": "execute_result"
    }
   ],
   "source": [
    "X_test.shape,X_train.shape"
   ]
  },
  {
   "cell_type": "code",
   "execution_count": 16,
   "metadata": {},
   "outputs": [
    {
     "ename": "AttributeError",
     "evalue": "'numpy.ndarray' object has no attribute 'head'",
     "output_type": "error",
     "traceback": [
      "\u001b[1;31m---------------------------------------------------------------------------\u001b[0m",
      "\u001b[1;31mAttributeError\u001b[0m                            Traceback (most recent call last)",
      "\u001b[1;32m<ipython-input-16-fcb316ef07ec>\u001b[0m in \u001b[0;36m<module>\u001b[1;34m\u001b[0m\n\u001b[1;32m----> 1\u001b[1;33m \u001b[0mX_train\u001b[0m\u001b[1;33m.\u001b[0m\u001b[0mhead\u001b[0m\u001b[1;33m\u001b[0m\u001b[1;33m\u001b[0m\u001b[0m\n\u001b[0m",
      "\u001b[1;31mAttributeError\u001b[0m: 'numpy.ndarray' object has no attribute 'head'"
     ]
    }
   ],
   "source": [
    "X_train"
   ]
  },
  {
   "cell_type": "code",
   "execution_count": null,
   "metadata": {},
   "outputs": [],
   "source": [
    "stock_train.head"
   ]
  },
  {
   "cell_type": "code",
   "execution_count": null,
   "metadata": {},
   "outputs": [],
   "source": [
    "#importing the tensorflow and necesssary for implementation\n",
    "import tensorflow as tf"
   ]
  },
  {
   "cell_type": "code",
   "execution_count": null,
   "metadata": {},
   "outputs": [],
   "source": [
    "from tensorflow.keras.models import Sequential\n",
    "from tensorflow.keras.layers import Dense\n"
   ]
  },
  {
   "cell_type": "code",
   "execution_count": null,
   "metadata": {},
   "outputs": [],
   "source": [
    "model=tf.keras.models.Sequential()\n",
    "model.add(tf.keras.layers.Dense(100,activation='relu'))\n",
    "model.add(tf.keras.layers.Dense(100, activation='relu'))\n",
    "model.add(tf.keras.layers.Dense(1, activation='relu'))\n",
    "model.compile(optimizer=\"adam\", loss=\"mean_squared_error\",metrics = ['accuracy'])\n"
   ]
  },
  {
   "cell_type": "code",
   "execution_count": null,
   "metadata": {},
   "outputs": [],
   "source": [
    "#fitting the training set and training actual value for the perceptron method to fit\n",
    "model.fit(X_train, Y_train,batch_size=32,epochs=40)"
   ]
  },
  {
   "cell_type": "code",
   "execution_count": null,
   "metadata": {},
   "outputs": [],
   "source": [
    "model.evaluate(X_test, Y_test)"
   ]
  },
  {
   "cell_type": "code",
   "execution_count": null,
   "metadata": {},
   "outputs": [],
   "source": [
    "#prediction made by our model\n",
    "test_predict=model.predict(X_test)"
   ]
  },
  {
   "cell_type": "code",
   "execution_count": null,
   "metadata": {},
   "outputs": [],
   "source": [
    "train_predict=model.predict(X_train)"
   ]
  },
  {
   "cell_type": "code",
   "execution_count": null,
   "metadata": {},
   "outputs": [],
   "source": [
    "train_predict.shape"
   ]
  },
  {
   "cell_type": "code",
   "execution_count": null,
   "metadata": {
    "scrolled": true
   },
   "outputs": [],
   "source": [
    "#plotting our result\n",
    "import pandas as pd\n",
    "import matplotlib.pyplot as plt\n",
    "# plt.plot(scaler.inverse_transform(df1))\n"
   ]
  },
  {
   "cell_type": "code",
   "execution_count": null,
   "metadata": {},
   "outputs": [],
   "source": [
    "train_predict.head"
   ]
  },
  {
   "cell_type": "code",
   "execution_count": null,
   "metadata": {},
   "outputs": [],
   "source": [
    "# train_predict=scaler.inverse_transform(train_predict)\n",
    "# test_predict=scaler.inverse_transform(test_predict)\n",
    "# df1=scaler.inverse_transform(df1)"
   ]
  },
  {
   "cell_type": "code",
   "execution_count": null,
   "metadata": {},
   "outputs": [],
   "source": [
    "#the orange line shows our prediction on training data while the greenline shows our prediction on the testset\n",
    "#the blue line is the actual closing price for the data\n",
    "import numpy as np\n",
    "seq_len=100\n",
    "\n",
    "Y_train_plot=np.empty_like(df1)\n",
    "Y_train_plot[:,:]=np.nan\n",
    "Y_train_plot[seq_len+1:len(X_train)+seq_len+1,:]=train_predict\n",
    "#similarily for test\n",
    "Y_test_plot=np.empty_like(df1)\n",
    "Y_test_plot[:,:]=np.nan\n",
    "Y_test_plot[len(X_train)+2*seq_len+1:len(df1)-1,:]=test_predict\n",
    "\n",
    "plt.plot(df1)\n",
    "plt.plot(Y_train_plot)\n",
    "plt.plot(Y_test_plot)\n"
   ]
  }
 ],
 "metadata": {
  "kernelspec": {
   "display_name": "Python 3",
   "language": "python",
   "name": "python3"
  },
  "language_info": {
   "codemirror_mode": {
    "name": "ipython",
    "version": 3
   },
   "file_extension": ".py",
   "mimetype": "text/x-python",
   "name": "python",
   "nbconvert_exporter": "python",
   "pygments_lexer": "ipython3",
   "version": "3.7.4"
  }
 },
 "nbformat": 4,
 "nbformat_minor": 2
}
