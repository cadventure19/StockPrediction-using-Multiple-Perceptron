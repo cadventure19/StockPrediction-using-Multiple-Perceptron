{
 "cells": [
  {
   "cell_type": "code",
   "execution_count": 1,
   "metadata": {},
   "outputs": [],
   "source": [
    "#importing pandas_data_reader to download data from yahoo finance\n",
    "import pandas as pd\n",
    "import pandas_datareader as pdr\n"
   ]
  },
  {
   "cell_type": "code",
   "execution_count": 2,
   "metadata": {},
   "outputs": [],
   "source": [
    "df=pd.read_csv(r\"C:\\Users\\Asus\\Documents\\Stock-MArket-Forecasting\\AAPL.csv\")"
   ]
  },
  {
   "cell_type": "code",
   "execution_count": 3,
   "metadata": {},
   "outputs": [
    {
     "data": {
      "text/html": [
       "<div>\n",
       "<style scoped>\n",
       "    .dataframe tbody tr th:only-of-type {\n",
       "        vertical-align: middle;\n",
       "    }\n",
       "\n",
       "    .dataframe tbody tr th {\n",
       "        vertical-align: top;\n",
       "    }\n",
       "\n",
       "    .dataframe thead th {\n",
       "        text-align: right;\n",
       "    }\n",
       "</style>\n",
       "<table border=\"1\" class=\"dataframe\">\n",
       "  <thead>\n",
       "    <tr style=\"text-align: right;\">\n",
       "      <th></th>\n",
       "      <th>Unnamed: 0</th>\n",
       "      <th>symbol</th>\n",
       "      <th>date</th>\n",
       "      <th>close</th>\n",
       "      <th>high</th>\n",
       "      <th>low</th>\n",
       "      <th>open</th>\n",
       "      <th>volume</th>\n",
       "      <th>adjClose</th>\n",
       "      <th>adjHigh</th>\n",
       "      <th>adjLow</th>\n",
       "      <th>adjOpen</th>\n",
       "      <th>adjVolume</th>\n",
       "      <th>divCash</th>\n",
       "      <th>splitFactor</th>\n",
       "    </tr>\n",
       "  </thead>\n",
       "  <tbody>\n",
       "    <tr>\n",
       "      <td>0</td>\n",
       "      <td>0</td>\n",
       "      <td>AAPL</td>\n",
       "      <td>2015-05-27 00:00:00+00:00</td>\n",
       "      <td>132.045</td>\n",
       "      <td>132.260</td>\n",
       "      <td>130.0500</td>\n",
       "      <td>130.34</td>\n",
       "      <td>45833246</td>\n",
       "      <td>121.682558</td>\n",
       "      <td>121.880685</td>\n",
       "      <td>119.844118</td>\n",
       "      <td>120.111360</td>\n",
       "      <td>45833246</td>\n",
       "      <td>0.0</td>\n",
       "      <td>1.0</td>\n",
       "    </tr>\n",
       "    <tr>\n",
       "      <td>1</td>\n",
       "      <td>1</td>\n",
       "      <td>AAPL</td>\n",
       "      <td>2015-05-28 00:00:00+00:00</td>\n",
       "      <td>131.780</td>\n",
       "      <td>131.950</td>\n",
       "      <td>131.1000</td>\n",
       "      <td>131.86</td>\n",
       "      <td>30733309</td>\n",
       "      <td>121.438354</td>\n",
       "      <td>121.595013</td>\n",
       "      <td>120.811718</td>\n",
       "      <td>121.512076</td>\n",
       "      <td>30733309</td>\n",
       "      <td>0.0</td>\n",
       "      <td>1.0</td>\n",
       "    </tr>\n",
       "    <tr>\n",
       "      <td>2</td>\n",
       "      <td>2</td>\n",
       "      <td>AAPL</td>\n",
       "      <td>2015-05-29 00:00:00+00:00</td>\n",
       "      <td>130.280</td>\n",
       "      <td>131.450</td>\n",
       "      <td>129.9000</td>\n",
       "      <td>131.23</td>\n",
       "      <td>50884452</td>\n",
       "      <td>120.056069</td>\n",
       "      <td>121.134251</td>\n",
       "      <td>119.705890</td>\n",
       "      <td>120.931516</td>\n",
       "      <td>50884452</td>\n",
       "      <td>0.0</td>\n",
       "      <td>1.0</td>\n",
       "    </tr>\n",
       "    <tr>\n",
       "      <td>3</td>\n",
       "      <td>3</td>\n",
       "      <td>AAPL</td>\n",
       "      <td>2015-06-01 00:00:00+00:00</td>\n",
       "      <td>130.535</td>\n",
       "      <td>131.390</td>\n",
       "      <td>130.0500</td>\n",
       "      <td>131.20</td>\n",
       "      <td>32112797</td>\n",
       "      <td>120.291057</td>\n",
       "      <td>121.078960</td>\n",
       "      <td>119.844118</td>\n",
       "      <td>120.903870</td>\n",
       "      <td>32112797</td>\n",
       "      <td>0.0</td>\n",
       "      <td>1.0</td>\n",
       "    </tr>\n",
       "    <tr>\n",
       "      <td>4</td>\n",
       "      <td>4</td>\n",
       "      <td>AAPL</td>\n",
       "      <td>2015-06-02 00:00:00+00:00</td>\n",
       "      <td>129.960</td>\n",
       "      <td>130.655</td>\n",
       "      <td>129.3200</td>\n",
       "      <td>129.86</td>\n",
       "      <td>33667627</td>\n",
       "      <td>119.761181</td>\n",
       "      <td>120.401640</td>\n",
       "      <td>119.171406</td>\n",
       "      <td>119.669029</td>\n",
       "      <td>33667627</td>\n",
       "      <td>0.0</td>\n",
       "      <td>1.0</td>\n",
       "    </tr>\n",
       "    <tr>\n",
       "      <td>...</td>\n",
       "      <td>...</td>\n",
       "      <td>...</td>\n",
       "      <td>...</td>\n",
       "      <td>...</td>\n",
       "      <td>...</td>\n",
       "      <td>...</td>\n",
       "      <td>...</td>\n",
       "      <td>...</td>\n",
       "      <td>...</td>\n",
       "      <td>...</td>\n",
       "      <td>...</td>\n",
       "      <td>...</td>\n",
       "      <td>...</td>\n",
       "      <td>...</td>\n",
       "      <td>...</td>\n",
       "    </tr>\n",
       "    <tr>\n",
       "      <td>1253</td>\n",
       "      <td>1253</td>\n",
       "      <td>AAPL</td>\n",
       "      <td>2020-05-18 00:00:00+00:00</td>\n",
       "      <td>314.960</td>\n",
       "      <td>316.500</td>\n",
       "      <td>310.3241</td>\n",
       "      <td>313.17</td>\n",
       "      <td>33843125</td>\n",
       "      <td>314.960000</td>\n",
       "      <td>316.500000</td>\n",
       "      <td>310.324100</td>\n",
       "      <td>313.170000</td>\n",
       "      <td>33843125</td>\n",
       "      <td>0.0</td>\n",
       "      <td>1.0</td>\n",
       "    </tr>\n",
       "    <tr>\n",
       "      <td>1254</td>\n",
       "      <td>1254</td>\n",
       "      <td>AAPL</td>\n",
       "      <td>2020-05-19 00:00:00+00:00</td>\n",
       "      <td>313.140</td>\n",
       "      <td>318.520</td>\n",
       "      <td>313.0100</td>\n",
       "      <td>315.03</td>\n",
       "      <td>25432385</td>\n",
       "      <td>313.140000</td>\n",
       "      <td>318.520000</td>\n",
       "      <td>313.010000</td>\n",
       "      <td>315.030000</td>\n",
       "      <td>25432385</td>\n",
       "      <td>0.0</td>\n",
       "      <td>1.0</td>\n",
       "    </tr>\n",
       "    <tr>\n",
       "      <td>1255</td>\n",
       "      <td>1255</td>\n",
       "      <td>AAPL</td>\n",
       "      <td>2020-05-20 00:00:00+00:00</td>\n",
       "      <td>319.230</td>\n",
       "      <td>319.520</td>\n",
       "      <td>316.2000</td>\n",
       "      <td>316.68</td>\n",
       "      <td>27876215</td>\n",
       "      <td>319.230000</td>\n",
       "      <td>319.520000</td>\n",
       "      <td>316.200000</td>\n",
       "      <td>316.680000</td>\n",
       "      <td>27876215</td>\n",
       "      <td>0.0</td>\n",
       "      <td>1.0</td>\n",
       "    </tr>\n",
       "    <tr>\n",
       "      <td>1256</td>\n",
       "      <td>1256</td>\n",
       "      <td>AAPL</td>\n",
       "      <td>2020-05-21 00:00:00+00:00</td>\n",
       "      <td>316.850</td>\n",
       "      <td>320.890</td>\n",
       "      <td>315.8700</td>\n",
       "      <td>318.66</td>\n",
       "      <td>25672211</td>\n",
       "      <td>316.850000</td>\n",
       "      <td>320.890000</td>\n",
       "      <td>315.870000</td>\n",
       "      <td>318.660000</td>\n",
       "      <td>25672211</td>\n",
       "      <td>0.0</td>\n",
       "      <td>1.0</td>\n",
       "    </tr>\n",
       "    <tr>\n",
       "      <td>1257</td>\n",
       "      <td>1257</td>\n",
       "      <td>AAPL</td>\n",
       "      <td>2020-05-22 00:00:00+00:00</td>\n",
       "      <td>318.890</td>\n",
       "      <td>319.230</td>\n",
       "      <td>315.3500</td>\n",
       "      <td>315.77</td>\n",
       "      <td>20450754</td>\n",
       "      <td>318.890000</td>\n",
       "      <td>319.230000</td>\n",
       "      <td>315.350000</td>\n",
       "      <td>315.770000</td>\n",
       "      <td>20450754</td>\n",
       "      <td>0.0</td>\n",
       "      <td>1.0</td>\n",
       "    </tr>\n",
       "  </tbody>\n",
       "</table>\n",
       "<p>1258 rows × 15 columns</p>\n",
       "</div>"
      ],
      "text/plain": [
       "      Unnamed: 0 symbol                       date    close     high  \\\n",
       "0              0   AAPL  2015-05-27 00:00:00+00:00  132.045  132.260   \n",
       "1              1   AAPL  2015-05-28 00:00:00+00:00  131.780  131.950   \n",
       "2              2   AAPL  2015-05-29 00:00:00+00:00  130.280  131.450   \n",
       "3              3   AAPL  2015-06-01 00:00:00+00:00  130.535  131.390   \n",
       "4              4   AAPL  2015-06-02 00:00:00+00:00  129.960  130.655   \n",
       "...          ...    ...                        ...      ...      ...   \n",
       "1253        1253   AAPL  2020-05-18 00:00:00+00:00  314.960  316.500   \n",
       "1254        1254   AAPL  2020-05-19 00:00:00+00:00  313.140  318.520   \n",
       "1255        1255   AAPL  2020-05-20 00:00:00+00:00  319.230  319.520   \n",
       "1256        1256   AAPL  2020-05-21 00:00:00+00:00  316.850  320.890   \n",
       "1257        1257   AAPL  2020-05-22 00:00:00+00:00  318.890  319.230   \n",
       "\n",
       "           low    open    volume    adjClose     adjHigh      adjLow  \\\n",
       "0     130.0500  130.34  45833246  121.682558  121.880685  119.844118   \n",
       "1     131.1000  131.86  30733309  121.438354  121.595013  120.811718   \n",
       "2     129.9000  131.23  50884452  120.056069  121.134251  119.705890   \n",
       "3     130.0500  131.20  32112797  120.291057  121.078960  119.844118   \n",
       "4     129.3200  129.86  33667627  119.761181  120.401640  119.171406   \n",
       "...        ...     ...       ...         ...         ...         ...   \n",
       "1253  310.3241  313.17  33843125  314.960000  316.500000  310.324100   \n",
       "1254  313.0100  315.03  25432385  313.140000  318.520000  313.010000   \n",
       "1255  316.2000  316.68  27876215  319.230000  319.520000  316.200000   \n",
       "1256  315.8700  318.66  25672211  316.850000  320.890000  315.870000   \n",
       "1257  315.3500  315.77  20450754  318.890000  319.230000  315.350000   \n",
       "\n",
       "         adjOpen  adjVolume  divCash  splitFactor  \n",
       "0     120.111360   45833246      0.0          1.0  \n",
       "1     121.512076   30733309      0.0          1.0  \n",
       "2     120.931516   50884452      0.0          1.0  \n",
       "3     120.903870   32112797      0.0          1.0  \n",
       "4     119.669029   33667627      0.0          1.0  \n",
       "...          ...        ...      ...          ...  \n",
       "1253  313.170000   33843125      0.0          1.0  \n",
       "1254  315.030000   25432385      0.0          1.0  \n",
       "1255  316.680000   27876215      0.0          1.0  \n",
       "1256  318.660000   25672211      0.0          1.0  \n",
       "1257  315.770000   20450754      0.0          1.0  \n",
       "\n",
       "[1258 rows x 15 columns]"
      ]
     },
     "execution_count": 3,
     "metadata": {},
     "output_type": "execute_result"
    }
   ],
   "source": [
    "df"
   ]
  },
  {
   "cell_type": "code",
   "execution_count": 4,
   "metadata": {},
   "outputs": [],
   "source": [
    "import numpy as np\n",
    "df1=df.reset_index()['close']"
   ]
  },
  {
   "cell_type": "code",
   "execution_count": 5,
   "metadata": {},
   "outputs": [],
   "source": [
    "df1=np.array(df1).reshape(-1,1)"
   ]
  },
  {
   "cell_type": "code",
   "execution_count": 6,
   "metadata": {},
   "outputs": [],
   "source": [
    "# scaling the data not necessary for multiple perceptron\n",
    "# \"#from sklearn.preprocessing import MinMaxScaler\n",
    "# scaler=MinMaxScaler(feature_range=(0,1))\n",
    "# #reshape (-1,1)convert the given matrix into that many rows and 1 columns e.g 100 item convert into 100*1 2-d array\n",
    "# df1=scaler.fit_transform(np.array(df1).reshape(-1,1))\""
   ]
  },
  {
   "cell_type": "code",
   "execution_count": 7,
   "metadata": {},
   "outputs": [
    {
     "data": {
      "text/plain": [
       "(817, 441, 1258)"
      ]
     },
     "execution_count": 7,
     "metadata": {},
     "output_type": "execute_result"
    }
   ],
   "source": [
    "#splitting the dataset for training and test set preparation\n",
    "training_size=int(len(df)*.65)\n",
    "test_size=len(df)-training_size\n",
    "training_size,test_size,len(df)"
   ]
  },
  {
   "cell_type": "code",
   "execution_count": 8,
   "metadata": {},
   "outputs": [
    {
     "data": {
      "text/plain": [
       "(1258, 1)"
      ]
     },
     "execution_count": 8,
     "metadata": {},
     "output_type": "execute_result"
    }
   ],
   "source": [
    "df1.shape"
   ]
  },
  {
   "cell_type": "code",
   "execution_count": 9,
   "metadata": {},
   "outputs": [
    {
     "data": {
      "text/plain": [
       "array([[132.045],\n",
       "       [131.78 ],\n",
       "       [130.28 ],\n",
       "       ...,\n",
       "       [319.23 ],\n",
       "       [316.85 ],\n",
       "       [318.89 ]])"
      ]
     },
     "execution_count": 9,
     "metadata": {},
     "output_type": "execute_result"
    }
   ],
   "source": [
    "df1[:,:]"
   ]
  },
  {
   "cell_type": "code",
   "execution_count": 10,
   "metadata": {},
   "outputs": [],
   "source": [
    "#first .65 percent for training and remaining for test set preparation\n",
    "stock_train=df1[:training_size,:]\n",
    "stock_test=df1[training_size:len(df1),:]"
   ]
  },
  {
   "cell_type": "code",
   "execution_count": 11,
   "metadata": {},
   "outputs": [
    {
     "data": {
      "text/plain": [
       "((441, 1), (817, 1))"
      ]
     },
     "execution_count": 11,
     "metadata": {},
     "output_type": "execute_result"
    }
   ],
   "source": [
    "stock_test.shape,stock_train.shape"
   ]
  },
  {
   "cell_type": "code",
   "execution_count": 12,
   "metadata": {},
   "outputs": [],
   "source": [
    "#preparing the training and test set as we want 100 previous day data to predict the next day\n",
    "class stock:\n",
    "    def __init__(self,stock):\n",
    "        self.stock_train=stock\n",
    "\n",
    "\n",
    "    def gen_train(self,seq_len):\n",
    "        self.input_train=[]\n",
    "        self.output_train=[]\n",
    "        for i in range((len(self.stock_train))-seq_len-1):\n",
    "            x=np.array(self.stock_train[i:i+seq_len,0])\n",
    "            y=np.array(self.stock_train[i+seq_len+1,0],np.float64)\n",
    "            self.input_train.append(x)\n",
    "            self.output_train.append(y)\n",
    "        \n",
    "\n",
    "        return np.array(self.input_train),np.array(self.output_train)\n",
    "    \n",
    "    \n"
   ]
  },
  {
   "cell_type": "code",
   "execution_count": 13,
   "metadata": {},
   "outputs": [],
   "source": [
    "#getting the training and test data \n",
    "Stock_train=stock(stock_train)\n",
    "X_train,Y_train=Stock_train.gen_train(100)"
   ]
  },
  {
   "cell_type": "code",
   "execution_count": 14,
   "metadata": {},
   "outputs": [],
   "source": [
    "Stock_test=stock(stock_test)\n",
    "X_test,Y_test=Stock_test.gen_train(100)"
   ]
  },
  {
   "cell_type": "code",
   "execution_count": 15,
   "metadata": {},
   "outputs": [
    {
     "data": {
      "text/plain": [
       "((340, 100), (716, 100))"
      ]
     },
     "execution_count": 15,
     "metadata": {},
     "output_type": "execute_result"
    }
   ],
   "source": [
    "X_test.shape,X_train.shape"
   ]
  },
  {
   "cell_type": "code",
   "execution_count": 16,
   "metadata": {},
   "outputs": [],
   "source": [
    "#importing the tensorflow and necesssary for implementation\n",
    "import tensorflow as tf"
   ]
  },
  {
   "cell_type": "code",
   "execution_count": 17,
   "metadata": {},
   "outputs": [],
   "source": [
    "from tensorflow.keras.models import Sequential\n",
    "from tensorflow.keras.layers import Dense\n"
   ]
  },
  {
   "cell_type": "code",
   "execution_count": 18,
   "metadata": {},
   "outputs": [],
   "source": [
    "model=tf.keras.models.Sequential()\n",
    "model.add(tf.keras.layers.Dense(100,activation='relu'))\n",
    "model.add(tf.keras.layers.Dense(100, activation='relu'))\n",
    "model.add(tf.keras.layers.Dense(1, activation='relu'))\n",
    "model.compile(optimizer=\"adam\", loss=\"mean_squared_error\",metrics = ['accuracy'])\n"
   ]
  },
  {
   "cell_type": "code",
   "execution_count": 19,
   "metadata": {},
   "outputs": [
    {
     "name": "stdout",
     "output_type": "stream",
     "text": [
      "Train on 716 samples\n",
      "Epoch 1/40\n",
      "716/716 [==============================] - 1s 1ms/sample - loss: 2348.7238 - accuracy: 0.0000e+00\n",
      "Epoch 2/40\n",
      "716/716 [==============================] - 0s 78us/sample - loss: 168.9378 - accuracy: 0.0000e+00\n",
      "Epoch 3/40\n",
      "716/716 [==============================] - 0s 80us/sample - loss: 70.1217 - accuracy: 0.0000e+00\n",
      "Epoch 4/40\n",
      "716/716 [==============================] - 0s 85us/sample - loss: 52.3802 - accuracy: 0.0000e+00\n",
      "Epoch 5/40\n",
      "716/716 [==============================] - 0s 96us/sample - loss: 48.3974 - accuracy: 0.0000e+00\n",
      "Epoch 6/40\n",
      "716/716 [==============================] - 0s 76us/sample - loss: 48.8110 - accuracy: 0.0000e+00\n",
      "Epoch 7/40\n",
      "716/716 [==============================] - 0s 100us/sample - loss: 39.5267 - accuracy: 0.0000e+00\n",
      "Epoch 8/40\n",
      "716/716 [==============================] - 0s 80us/sample - loss: 37.9337 - accuracy: 0.0000e+00\n",
      "Epoch 9/40\n",
      "716/716 [==============================] - 0s 96us/sample - loss: 34.8652 - accuracy: 0.0000e+00\n",
      "Epoch 10/40\n",
      "716/716 [==============================] - 0s 115us/sample - loss: 35.3843 - accuracy: 0.0000e+00\n",
      "Epoch 11/40\n",
      "716/716 [==============================] - 0s 70us/sample - loss: 31.6179 - accuracy: 0.0000e+00\n",
      "Epoch 12/40\n",
      "716/716 [==============================] - 0s 84us/sample - loss: 30.8659 - accuracy: 0.0000e+00\n",
      "Epoch 13/40\n",
      "716/716 [==============================] - 0s 79us/sample - loss: 38.7007 - accuracy: 0.0000e+00\n",
      "Epoch 14/40\n",
      "716/716 [==============================] - 0s 96us/sample - loss: 43.1150 - accuracy: 0.0000e+00\n",
      "Epoch 15/40\n",
      "716/716 [==============================] - 0s 102us/sample - loss: 30.6731 - accuracy: 0.0000e+00\n",
      "Epoch 16/40\n",
      "716/716 [==============================] - 0s 108us/sample - loss: 32.1882 - accuracy: 0.0000e+00\n",
      "Epoch 17/40\n",
      "716/716 [==============================] - 0s 93us/sample - loss: 31.4253 - accuracy: 0.0000e+00\n",
      "Epoch 18/40\n",
      "716/716 [==============================] - 0s 90us/sample - loss: 39.7002 - accuracy: 0.0000e+00\n",
      "Epoch 19/40\n",
      "716/716 [==============================] - 0s 94us/sample - loss: 33.0060 - accuracy: 0.0000e+00\n",
      "Epoch 20/40\n",
      "716/716 [==============================] - 0s 86us/sample - loss: 29.1250 - accuracy: 0.0000e+00\n",
      "Epoch 21/40\n",
      "716/716 [==============================] - 0s 82us/sample - loss: 27.0172 - accuracy: 0.0000e+00\n",
      "Epoch 22/40\n",
      "716/716 [==============================] - 0s 76us/sample - loss: 25.9746 - accuracy: 0.0000e+00\n",
      "Epoch 23/40\n",
      "716/716 [==============================] - 0s 73us/sample - loss: 25.1684 - accuracy: 0.0000e+00\n",
      "Epoch 24/40\n",
      "716/716 [==============================] - 0s 94us/sample - loss: 21.9718 - accuracy: 0.0000e+00\n",
      "Epoch 25/40\n",
      "716/716 [==============================] - 0s 90us/sample - loss: 27.9383 - accuracy: 0.0000e+00\n",
      "Epoch 26/40\n",
      "716/716 [==============================] - 0s 79us/sample - loss: 34.3240 - accuracy: 0.0000e+00\n",
      "Epoch 27/40\n",
      "716/716 [==============================] - 0s 82us/sample - loss: 22.5276 - accuracy: 0.0000e+00\n",
      "Epoch 28/40\n",
      "716/716 [==============================] - 0s 86us/sample - loss: 20.4084 - accuracy: 0.0000e+00\n",
      "Epoch 29/40\n",
      "716/716 [==============================] - 0s 72us/sample - loss: 28.4050 - accuracy: 0.0000e+00\n",
      "Epoch 30/40\n",
      "716/716 [==============================] - 0s 95us/sample - loss: 28.0750 - accuracy: 0.0000e+00\n",
      "Epoch 31/40\n",
      "716/716 [==============================] - 0s 90us/sample - loss: 33.7254 - accuracy: 0.0000e+00\n",
      "Epoch 32/40\n",
      "716/716 [==============================] - 0s 100us/sample - loss: 25.4702 - accuracy: 0.0000e+00\n",
      "Epoch 33/40\n",
      "716/716 [==============================] - 0s 118us/sample - loss: 22.6837 - accuracy: 0.0000e+00\n",
      "Epoch 34/40\n",
      "716/716 [==============================] - 0s 88us/sample - loss: 24.1448 - accuracy: 0.0000e+00\n",
      "Epoch 35/40\n",
      "716/716 [==============================] - 0s 73us/sample - loss: 24.7042 - accuracy: 0.0000e+00\n",
      "Epoch 36/40\n",
      "716/716 [==============================] - 0s 73us/sample - loss: 18.4973 - accuracy: 0.0000e+00\n",
      "Epoch 37/40\n",
      "716/716 [==============================] - 0s 83us/sample - loss: 31.9459 - accuracy: 0.0000e+00\n",
      "Epoch 38/40\n",
      "716/716 [==============================] - 0s 94us/sample - loss: 27.2148 - accuracy: 0.0000e+00\n",
      "Epoch 39/40\n",
      "716/716 [==============================] - 0s 70us/sample - loss: 33.5643 - accuracy: 0.0000e+00\n",
      "Epoch 40/40\n",
      "716/716 [==============================] - 0s 84us/sample - loss: 27.6161 - accuracy: 0.0000e+00\n"
     ]
    },
    {
     "data": {
      "text/plain": [
       "<tensorflow.python.keras.callbacks.History at 0x12ee32ace88>"
      ]
     },
     "execution_count": 19,
     "metadata": {},
     "output_type": "execute_result"
    }
   ],
   "source": [
    "#fitting the training set and training actual value for the perceptron method to fit\n",
    "model.fit(X_train, Y_train,batch_size=32,epochs=40)"
   ]
  },
  {
   "cell_type": "code",
   "execution_count": 20,
   "metadata": {},
   "outputs": [
    {
     "name": "stdout",
     "output_type": "stream",
     "text": [
      "340/340 [==============================] - 0s 708us/sample - loss: 106.4579 - accuracy: 0.0000e+00\n"
     ]
    },
    {
     "data": {
      "text/plain": [
       "[106.45788628073299, 0.0]"
      ]
     },
     "execution_count": 20,
     "metadata": {},
     "output_type": "execute_result"
    }
   ],
   "source": [
    "model.evaluate(X_test, Y_test)"
   ]
  },
  {
   "cell_type": "code",
   "execution_count": 21,
   "metadata": {},
   "outputs": [],
   "source": [
    "#prediction made by our model\n",
    "test_predict=model.predict(X_test)"
   ]
  },
  {
   "cell_type": "code",
   "execution_count": 22,
   "metadata": {},
   "outputs": [],
   "source": [
    "train_predict=model.predict(X_train)"
   ]
  },
  {
   "cell_type": "code",
   "execution_count": 23,
   "metadata": {
    "scrolled": true
   },
   "outputs": [],
   "source": [
    "#plotting our result\n",
    "import pandas as pd\n",
    "import matplotlib.pyplot as plt\n",
    "# plt.plot(scaler.inverse_transform(df1))\n"
   ]
  },
  {
   "cell_type": "code",
   "execution_count": 24,
   "metadata": {},
   "outputs": [],
   "source": [
    "# train_predict=scaler.inverse_transform(train_predict)\n",
    "# test_predict=scaler.inverse_transform(test_predict)\n",
    "# df1=scaler.inverse_transform(df1)"
   ]
  },
  {
   "cell_type": "code",
   "execution_count": 25,
   "metadata": {},
   "outputs": [
    {
     "data": {
      "text/plain": [
       "[<matplotlib.lines.Line2D at 0x12ee40a9c08>]"
      ]
     },
     "execution_count": 25,
     "metadata": {},
     "output_type": "execute_result"
    },
    {
     "data": {
      "image/png": "[encoded data removed]",
      "text/plain": [
       "<Figure size 432x288 with 1 Axes>"
      ]
     },
     "metadata": {
      "needs_background": "light"
     },
     "output_type": "display_data"
    }
   ],
   "source": [
    "#the orange line shows our prediction on training data while the greenline shows our prediction on the testset\n",
    "#the blue line is the actual closing price for the data\n",
    "import numpy as np\n",
    "seq_len=100\n",
    "\n",
    "Y_train_plot=np.empty_like(df1)\n",
    "Y_train_plot[:,:]=np.nan\n",
    "Y_train_plot[seq_len+1:len(X_train)+seq_len+1,:]=train_predict\n",
    "#similarily for test\n",
    "Y_test_plot=np.empty_like(df1)\n",
    "Y_test_plot[:,:]=np.nan\n",
    "Y_test_plot[len(X_train)+2*seq_len+1:len(df1)-1,:]=test_predict\n",
    "\n",
    "plt.plot(df1)\n",
    "plt.plot(Y_train_plot)\n",
    "plt.plot(Y_test_plot)\n"
   ]
  }
 ],
 "metadata": {
  "kernelspec": {
   "display_name": "Python 3",
   "language": "python",
   "name": "python3"
  },
  "language_info": {
   "codemirror_mode": {
    "name": "ipython",
    "version": 3
   },
   "file_extension": ".py",
   "mimetype": "text/x-python",
   "name": "python",
   "nbconvert_exporter": "python",
   "pygments_lexer": "ipython3",
   "version": "3.7.4"
  }
 },
 "nbformat": 4,
 "nbformat_minor": 2
}
